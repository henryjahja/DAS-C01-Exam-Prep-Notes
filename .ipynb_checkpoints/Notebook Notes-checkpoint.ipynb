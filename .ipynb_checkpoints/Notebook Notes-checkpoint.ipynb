{
 "cells": [
  {
   "cell_type": "markdown",
   "id": "1a5f4d4c",
   "metadata": {},
   "source": [
    "# On My Way to DAS-C01 Certified\n",
    "This Notebook will serve as a journal in my pursue of [AWS DAS-C01, Data Analytic Specialty](https://aws.amazon.com/certification/certified-data-analytics-specialty/)!  \n",
    "I'm enrolled to [AWS Certified Data Analytics Specialty 2023 - Hands On!](https://www.udemy.com/course/aws-data-analytics/) course in Udemy.\n",
    "\n",
    "I will try to include as much writing as possible to record my progress.  \n",
    "<hr>"
   ]
  },
  {
   "cell_type": "markdown",
   "id": "8b1462cb",
   "metadata": {},
   "source": [
    "# Domain 1: Collection \n",
    "<hr>\n",
    "\n",
    "### Types of Collection Apps:\n",
    "* **Real Time** (Immediate Actions):\n",
    "    * Kinesis Data Stream (KDS);\n",
    "    * Simple Queue Service (SQS);\n",
    "    * Internet of Things (IoT).\n",
    "* **Near-Real Time** (Reactive Actions):\n",
    "    * Kinesis Data Firehose;\n",
    "    * Database Migration Service (DMS).\n",
    "* **Batch** (Historical Analysis):\n",
    "    * Snowball;\n",
    "    * Data Pipeline.\n",
    "\n",
    "\n",
    "## > Kinesis Data Stream\n",
    "### Summary:\n",
    "* Retention between 1 to 365 Days;\n",
    "* Ability to reprocess/replay data;\n",
    "* Once data is inserted, cannot be deleted (immutable);\n",
    "* Data that shares the same partition goes to the same shard (order);\n",
    "* Producers:\n",
    "    * AWS SDK;\n",
    "    * Kinesis Producer Library (KPL);\n",
    "    * Kinesis Agent.\n",
    "* Consumer:\n",
    "    * Write ourself:\n",
    "        * Kinesis Client Library (KCL);\n",
    "        * AWS SDK.\n",
    "    * Managed:\n",
    "        * AWS Lambda;\n",
    "        * Kinesis Data Firehose;\n",
    "        * Kinesis Data Analytics.\n",
    "### Capacity Modes:\n",
    "* Provisioned Mode:\n",
    "    * Choose the number of shards, scale manually or using API;\n",
    "    * Each shard has 1MiB/s Instream or 1000 records per second;\n",
    "    * Each shard has 2MiB/s Outstream (classic or enhanced fan-out consumer);\n",
    "    * Pay per shard provisioned per hour.\n",
    "* On-Demand Mode:\n",
    "    * No need to provision or manage the capacity;\n",
    "    * Default capacity provisioned, 4MiB/s or 4000 records per second;\n",
    "    * Scales automatically based on the observed throughput peak for the last 30 days;\n",
    "    * Pay per stream per hour and data instream/outstream per GiB.\n",
    "### Security:\n",
    "* Control access/authorization using Identity and Access Management (IAM) policies;\n",
    "* Encription in-flight using HTTPS endpoints;\n",
    "* Encryption at-rest using Key Management Service (KMS);\n",
    "* Can implement encryption/decryption of data on client side;\n",
    "* Virtual Private Cloud (VPC) Endpoints available for Kinesis to access within VPC;\n",
    "* Monitor API calls using CloudTrail.\n",
    "### Producers:\n",
    "* Kinesis SDK\n",
    "* Kinesis Producer Library (KPL)\n",
    "* Kinesis Agent\n",
    "* 3rd party libraries:\n",
    "    * Spark;\n",
    "    * Log4J;\n",
    "    * Appenders;\n",
    "    * Flume;\n",
    "    * Kafka Connect;\n",
    "    * NiFi;\n",
    "    * etc…\n",
    "### > PutRecord/PutRecords:\n",
    "* API function to be used are **PutRecord** for one, and **PutRecords** for many;\n",
    "* **PutRecords** uses batching and increases throughput, meaning less HTTP request(s);\n",
    "* ProvisionedThroughputExceeded will be thrown if over the limit;\n",
    "* Can be used on AWS Movile SDK (Android/iOS);\n",
    "* Use cases:\n",
    "    * Low throughput;\n",
    "    * Higher latency;\n",
    "    * Simple API;\n",
    "    * AWS Lambda\n",
    "* Managed AWS apps sources for Kinesis Data Streams:\n",
    "    * CloudWatch Logs;\n",
    "    * AWS IoT;\n",
    "    * Kinesis Data Analytic.\n",
    "\n",
    "## > Kinesis Data Firehose\n",
    "\n",
    "### EC2 Instance Setup\n",
    "\n",
    "## > SQS"
   ]
  },
  {
   "cell_type": "markdown",
   "id": "d3b3ce2b",
   "metadata": {},
   "source": [
    "# Domain 2: Storage\n",
    "<hr>\n",
    "\n",
    "## S3\n",
    "\n",
    "### DynamoDB\n",
    "\n",
    "* Writing Data:\n",
    "    * PutItem\n",
    "        * Creates a new item or fully replace an old item (with same Primary Key)\n",
    "        * Consume WCUs (Writing Capacity Unit)\n",
    "    * UpdateItem\n",
    "        * Eduts an existing item's attributes or adds a new item if it doesn't exist\n",
    "        * Can be used to implement **Atomic Counters** - a numeric attribute that's unconditionally incremented\n",
    "    * Conditional Writes\n",
    "        * Accept a write/update/delete only if conditions are met, otherwise returns an error\n",
    "        * Helps with concurrent access to item\n",
    "        * No performance impact"
   ]
  },
  {
   "cell_type": "markdown",
   "id": "a843f4f2",
   "metadata": {},
   "source": [
    "<hr>\n",
    "<hr>\n",
    "<hr>"
   ]
  },
  {
   "cell_type": "markdown",
   "id": "e08d69e6",
   "metadata": {},
   "source": [
    "# Domain 3: Processing\n",
    "<hr>"
   ]
  },
  {
   "cell_type": "markdown",
   "id": "1655d6d0",
   "metadata": {},
   "source": [
    "# Domain 4: Analysis\n",
    "<hr>"
   ]
  },
  {
   "cell_type": "markdown",
   "id": "14393d58",
   "metadata": {},
   "source": [
    "# Domain 5: Visualization\n",
    "<hr>"
   ]
  },
  {
   "cell_type": "markdown",
   "id": "1053dc5d",
   "metadata": {},
   "source": [
    "# Domain 6: Security\n",
    "<hr>"
   ]
  },
  {
   "cell_type": "code",
   "execution_count": null,
   "id": "429b7041",
   "metadata": {},
   "outputs": [],
   "source": []
  },
  {
   "cell_type": "markdown",
   "id": "7e7a80cf",
   "metadata": {},
   "source": []
  },
  {
   "cell_type": "markdown",
   "id": "7f21d51b",
   "metadata": {},
   "source": []
  },
  {
   "cell_type": "markdown",
   "id": "575ec4dd",
   "metadata": {},
   "source": []
  },
  {
   "cell_type": "markdown",
   "id": "ccaaee8a",
   "metadata": {},
   "source": []
  },
  {
   "cell_type": "markdown",
   "id": "a36c4b66",
   "metadata": {},
   "source": []
  },
  {
   "cell_type": "markdown",
   "id": "a2042b12",
   "metadata": {},
   "source": []
  },
  {
   "cell_type": "markdown",
   "id": "8d08f34f",
   "metadata": {},
   "source": []
  },
  {
   "cell_type": "markdown",
   "id": "b3ab9f19",
   "metadata": {},
   "source": []
  },
  {
   "cell_type": "markdown",
   "id": "cf831175",
   "metadata": {},
   "source": []
  },
  {
   "cell_type": "markdown",
   "id": "7358f40a",
   "metadata": {},
   "source": []
  },
  {
   "cell_type": "markdown",
   "id": "5ad4879f",
   "metadata": {},
   "source": []
  },
  {
   "cell_type": "markdown",
   "id": "2d7b1ebf",
   "metadata": {},
   "source": []
  },
  {
   "cell_type": "markdown",
   "id": "b130e2c7",
   "metadata": {},
   "source": []
  }
 ],
 "metadata": {
  "kernelspec": {
   "display_name": "Python 3 (ipykernel)",
   "language": "python",
   "name": "python3"
  },
  "language_info": {
   "codemirror_mode": {
    "name": "ipython",
    "version": 3
   },
   "file_extension": ".py",
   "mimetype": "text/x-python",
   "name": "python",
   "nbconvert_exporter": "python",
   "pygments_lexer": "ipython3",
   "version": "3.10.9"
  }
 },
 "nbformat": 4,
 "nbformat_minor": 5
}
