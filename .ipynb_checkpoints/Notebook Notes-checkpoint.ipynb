{
 "cells": [
  {
   "cell_type": "markdown",
   "id": "1a5f4d4c",
   "metadata": {},
   "source": [
    "# On My Way to DAS-C01 Certified\n",
    "This Notebook will serve as a journal in my pursue of [AWS DAS-C01, Data Analytic Specialty](https://aws.amazon.com/certification/certified-data-analytics-specialty/)!  \n",
    "I'm enrolled to [AWS Certified Data Analytics Specialty 2023 - Hands On!](https://www.udemy.com/course/aws-data-analytics/) course in Udemy.\n",
    "\n",
    "I will try to include as much writing as possible to record my progress.  \n",
    "<hr>"
   ]
  },
  {
   "cell_type": "markdown",
   "id": "8b1462cb",
   "metadata": {},
   "source": [
    "# Domain 1: Collection\n",
    "\\<As of this post, I have started Domain 2. When the time is right, I will revisit this section>  \n",
    "<hr>"
   ]
  },
  {
   "cell_type": "markdown",
   "id": "18d99400",
   "metadata": {},
   "source": [
    "# Domain 2: Storage\n",
    "<hr>  \n",
    "\n",
    "### DynamoDB - Writing Data\n",
    "\n",
    "* PutItem"
   ]
  },
  {
   "cell_type": "markdown",
   "id": "f7b1aa20",
   "metadata": {},
   "source": [
    "<hr>\n"
   ]
  },
  {
   "cell_type": "markdown",
   "id": "e08d69e6",
   "metadata": {},
   "source": [
    "# Domain 3: Processing\n",
    "<hr>"
   ]
  },
  {
   "cell_type": "markdown",
   "id": "1655d6d0",
   "metadata": {},
   "source": [
    "# Domain 4: Analysis\n",
    "<hr>"
   ]
  },
  {
   "cell_type": "markdown",
   "id": "14393d58",
   "metadata": {},
   "source": [
    "# Domain 5: Visualization\n",
    "<hr>"
   ]
  },
  {
   "cell_type": "markdown",
   "id": "1053dc5d",
   "metadata": {},
   "source": [
    "# Domain 6: Security\n",
    "<hr>"
   ]
  },
  {
   "cell_type": "code",
   "execution_count": null,
   "id": "f3f50ceb",
   "metadata": {},
   "outputs": [],
   "source": []
  },
  {
   "cell_type": "markdown",
   "id": "7e7a80cf",
   "metadata": {},
   "source": []
  },
  {
   "cell_type": "markdown",
   "id": "7f21d51b",
   "metadata": {},
   "source": []
  },
  {
   "cell_type": "markdown",
   "id": "575ec4dd",
   "metadata": {},
   "source": []
  },
  {
   "cell_type": "markdown",
   "id": "ccaaee8a",
   "metadata": {},
   "source": []
  },
  {
   "cell_type": "markdown",
   "id": "a36c4b66",
   "metadata": {},
   "source": []
  },
  {
   "cell_type": "markdown",
   "id": "a2042b12",
   "metadata": {},
   "source": []
  },
  {
   "cell_type": "markdown",
   "id": "8d08f34f",
   "metadata": {},
   "source": []
  },
  {
   "cell_type": "markdown",
   "id": "b3ab9f19",
   "metadata": {},
   "source": []
  },
  {
   "cell_type": "markdown",
   "id": "cf831175",
   "metadata": {},
   "source": []
  },
  {
   "cell_type": "markdown",
   "id": "7358f40a",
   "metadata": {},
   "source": []
  },
  {
   "cell_type": "markdown",
   "id": "5ad4879f",
   "metadata": {},
   "source": []
  },
  {
   "cell_type": "markdown",
   "id": "2d7b1ebf",
   "metadata": {},
   "source": []
  },
  {
   "cell_type": "markdown",
   "id": "b130e2c7",
   "metadata": {},
   "source": []
  }
 ],
 "metadata": {
  "kernelspec": {
   "display_name": "Python 3 (ipykernel)",
   "language": "python",
   "name": "python3"
  },
  "language_info": {
   "codemirror_mode": {
    "name": "ipython",
    "version": 3
   },
   "file_extension": ".py",
   "mimetype": "text/x-python",
   "name": "python",
   "nbconvert_exporter": "python",
   "pygments_lexer": "ipython3",
   "version": "3.10.9"
  }
 },
 "nbformat": 4,
 "nbformat_minor": 5
}
